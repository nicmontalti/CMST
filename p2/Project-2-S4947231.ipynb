{
 "cells": [
  {
   "cell_type": "code",
   "execution_count": 117,
   "source": [
    "import numpy as np\n",
    "from scipy.integrate import odeint\n",
    "from matplotlib import pyplot as plt"
   ],
   "outputs": [],
   "metadata": {}
  },
  {
   "cell_type": "code",
   "execution_count": 118,
   "source": [
    "def drag_force(velocity, alpha_d):\n",
    "    velocity_norm = np.linalg.norm(velocity)\n",
    "    velocity_direction = velocity / velocity_norm\n",
    "    return -alpha_d * velocity_norm**2 * velocity_direction\n",
    "\n",
    "def lift_force(velocity, alpha_l):\n",
    "    velocity_norm = np.linalg.norm(velocity)\n",
    "    velocity_direction = velocity / velocity_norm\n",
    "    rotation_matrix = np.array([[0, -1], [1,0]])\n",
    "    force_direction = np.dot(rotation_matrix, velocity_direction)\n",
    "    return alpha_l * velocity_norm**2 * force_direction"
   ],
   "outputs": [],
   "metadata": {}
  },
  {
   "cell_type": "code",
   "execution_count": 78,
   "source": [
    "def diff_equation(position_velocity, t, alpha_d, alpha_l, mass, g):\n",
    "    position = position_velocity[:2]\n",
    "    velocity = position_velocity[2:]\n",
    "    force = drag_force(velocity, alpha_d) + lift_force(velocity, alpha_l) + mass*g*np.array([0,-1])\n",
    "    acceleration = force / mass\n",
    "    return np.append(velocity, acceleration)"
   ],
   "outputs": [],
   "metadata": {}
  },
  {
   "cell_type": "code",
   "execution_count": 115,
   "source": [
    "constants = (0.008, 0.001, 0.05, 9.81)\n",
    "time = np.linspace(0, 2, 1000)\n",
    "\n",
    "init_speed = 60\n",
    "init_angle = np.radians(20)\n",
    "init_conditions = np.array([0, 0, init_speed*np.cos(init_angle), init_speed*np.sin(init_angle)])\n",
    "\n",
    "ode_solution = odeint(diff_equation, init_conditions, time, args=constants)\n",
    "\n",
    "plt.plot(ode_solution[:,0], ode_solution[:,1])"
   ],
   "outputs": [
    {
     "output_type": "execute_result",
     "data": {
      "text/plain": [
       "[<matplotlib.lines.Line2D at 0x7f78832d0ca0>]"
      ]
     },
     "metadata": {},
     "execution_count": 115
    },
    {
     "output_type": "display_data",
     "data": {
      "image/png": "[encoded data removed]",
      "text/plain": [
       "<Figure size 432x288 with 1 Axes>"
      ]
     },
     "metadata": {
      "needs_background": "light"
     }
    }
   ],
   "metadata": {}
  }
 ],
 "metadata": {
  "orig_nbformat": 4,
  "language_info": {
   "name": "python",
   "version": "3.8.8",
   "mimetype": "text/x-python",
   "codemirror_mode": {
    "name": "ipython",
    "version": 3
   },
   "pygments_lexer": "ipython3",
   "nbconvert_exporter": "python",
   "file_extension": ".py"
  },
  "kernelspec": {
   "name": "python3",
   "display_name": "Python 3.8.8 64-bit ('base': conda)"
  },
  "interpreter": {
   "hash": "c0c08d42413915da68ea2e221609bc2e66915c6b5146488f26ebfd0415f433bb"
  }
 },
 "nbformat": 4,
 "nbformat_minor": 2
}